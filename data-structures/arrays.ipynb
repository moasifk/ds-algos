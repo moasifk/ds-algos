{
 "cells": [
  {
   "cell_type": "markdown",
   "metadata": {},
   "source": [
    "## Arrays (List) in Python "
   ]
  },
  {
   "cell_type": "code",
   "execution_count": 31,
   "metadata": {},
   "outputs": [],
   "source": [
    "#Array native python methods :-\n",
    "#append()\tAdds an element at the end of the list\n",
    "#clear()\tRemoves all the elements from the list\n",
    "#copy()\tReturns a copy of the list\n",
    "#count()\tReturns the number of elements with the specified value\n",
    "#extend()\tAdd the elements of a list (or any iterable), to the end of the current list\n",
    "#index()\tReturns the index of the first element with the specified value\n",
    "#insert()\tAdds an element at the specified position\n",
    "#pop()\tRemoves the element at the specified position\n",
    "#remove()\tRemoves the first item with the specified value\n",
    "#reverse()\tReverses the order of the list\n",
    "#sort()\tSorts the list"
   ]
  },
  {
   "cell_type": "code",
   "execution_count": 1,
   "metadata": {},
   "outputs": [],
   "source": [
    "# Create a List\n",
    "my_list = [1, 2, 3, 4]"
   ]
  },
  {
   "cell_type": "code",
   "execution_count": 2,
   "metadata": {},
   "outputs": [
    {
     "data": {
      "text/plain": [
       "[2, 3]"
      ]
     },
     "execution_count": 2,
     "metadata": {},
     "output_type": "execute_result"
    }
   ],
   "source": [
    "# Access Elements\n",
    "my_list[0]      # First item\n",
    "my_list[-1]     # Last item\n",
    "my_list[1:3]    # Slice from index 1 to 2\n"
   ]
  },
  {
   "cell_type": "code",
   "execution_count": 4,
   "metadata": {},
   "outputs": [],
   "source": [
    "# Modify Elements\n",
    "my_list[2] = 99   # Change value at index 2"
   ]
  },
  {
   "cell_type": "code",
   "execution_count": 5,
   "metadata": {},
   "outputs": [],
   "source": [
    "# Add Elements\n",
    "my_list.append(5)          # Add to end\n",
    "my_list.insert(1, 100)     # Insert at index 1\n",
    "my_list.extend([6, 7])     # Add multiple items\n"
   ]
  },
  {
   "cell_type": "code",
   "execution_count": 6,
   "metadata": {},
   "outputs": [],
   "source": [
    "# Remove Elements\n",
    "my_list.remove(2)      # Remove first occurrence of 2\n",
    "my_list.pop()          # Remove last item\n",
    "my_list.pop(1)         # Remove item at index 1\n",
    "del my_list[0]         # Delete item at index 0\n"
   ]
  },
  {
   "cell_type": "code",
   "execution_count": 7,
   "metadata": {},
   "outputs": [
    {
     "data": {
      "text/plain": [
       "99"
      ]
     },
     "execution_count": 7,
     "metadata": {},
     "output_type": "execute_result"
    }
   ],
   "source": [
    "#  Check Length, Sum, Min, Max\n",
    "len(my_list)           # Number of items\n",
    "sum(my_list)           # Sum of items\n",
    "min(my_list)           # Smallest item\n",
    "max(my_list)           # Largest item\n"
   ]
  },
  {
   "cell_type": "code",
   "execution_count": 8,
   "metadata": {},
   "outputs": [
    {
     "data": {
      "text/plain": [
       "0"
      ]
     },
     "execution_count": 8,
     "metadata": {},
     "output_type": "execute_result"
    }
   ],
   "source": [
    "# Search\n",
    "2 in my_list           # True if 2 is in list\n",
    "my_list.index(99)      # Index of 99\n",
    "my_list.count(1)       # Count of 1s\n"
   ]
  },
  {
   "cell_type": "code",
   "execution_count": 9,
   "metadata": {},
   "outputs": [],
   "source": [
    "# Sort & Reverse\n",
    "my_list.sort()               # Sort ascending\n",
    "my_list.sort(reverse=True)   # Sort descending\n",
    "my_list.reverse()            # Reverse order\n"
   ]
  },
  {
   "cell_type": "code",
   "execution_count": 10,
   "metadata": {},
   "outputs": [],
   "source": [
    "# Copy & Clear\n",
    "new_list = my_list.copy()    # Copy list\n",
    "my_list.clear()              # Remove all items\n"
   ]
  },
  {
   "cell_type": "code",
   "execution_count": 11,
   "metadata": {},
   "outputs": [],
   "source": [
    "# Loop Through List\n",
    "for item in my_list:\n",
    "    print(item)\n",
    "\n",
    "for i, item in enumerate(my_list):\n",
    "    print(i, item)\n"
   ]
  },
  {
   "cell_type": "code",
   "execution_count": 12,
   "metadata": {},
   "outputs": [],
   "source": [
    "# List Comprehensions\n",
    "squared = [x**2 for x in my_list]\n",
    "even = [x for x in my_list if x % 2 == 0]\n"
   ]
  },
  {
   "cell_type": "code",
   "execution_count": null,
   "metadata": {},
   "outputs": [],
   "source": []
  },
  {
   "cell_type": "markdown",
   "metadata": {},
   "source": [
    "# 📘 Python List Operations Cheat Sheet (with Big O Notation)\n",
    "\n",
    "| Operation       | Description                       | Big O Time Complexity |\n",
    "|----------------|-----------------------------------|------------------------|\n",
    "| `append(x)`     | Add item to end                   | O(1) amortized         |\n",
    "| `insert(i, x)`  | Insert item at index `i`          | O(n)                   |\n",
    "| `pop()`         | Remove last item                  | O(1)                   |\n",
    "| `pop(i)`        | Remove item at index `i`          | O(n)                   |\n",
    "| `remove(x)`     | Remove first occurrence of `x`    | O(n)                   |\n",
    "| `del list[i]`   | Delete item at index `i`          | O(n)                   |\n",
    "| `list[i]`       | Access item by index              | O(1)                   |\n",
    "| `list[i] = x`   | Update item at index              | O(1)                   |\n",
    "| `len(list)`     | Get length                        | O(1)                   |\n",
    "| `x in list`     | Search for value                  | O(n)                   |\n",
    "| `list.sort()`   | Sort the list                     | O(n log n)             |\n",
    "| `list.reverse()`| Reverse the list                  | O(n)                   |"
   ]
  },
  {
   "cell_type": "code",
   "execution_count": null,
   "metadata": {},
   "outputs": [],
   "source": []
  },
  {
   "cell_type": "code",
   "execution_count": null,
   "metadata": {},
   "outputs": [],
   "source": []
  }
 ],
 "metadata": {
  "kernelspec": {
   "display_name": "Python 3",
   "language": "python",
   "name": "python3"
  },
  "language_info": {
   "codemirror_mode": {
    "name": "ipython",
    "version": 3
   },
   "file_extension": ".py",
   "mimetype": "text/x-python",
   "name": "python",
   "nbconvert_exporter": "python",
   "pygments_lexer": "ipython3",
   "version": "3.12.0"
  }
 },
 "nbformat": 4,
 "nbformat_minor": 2
}
