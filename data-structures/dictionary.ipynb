{
 "cells": [
  {
   "cell_type": "code",
   "execution_count": 64,
   "metadata": {},
   "outputs": [],
   "source": [
    "# Python Dictionary Operations (Interview-Oriented)\n",
    "\n",
    "# 1. Creating a Dictionary\n",
    "my_dict = {\"a\": 1, \"b\": 2}\n",
    "empty_dict = dict()"
   ]
  },
  {
   "cell_type": "code",
   "execution_count": 44,
   "metadata": {},
   "outputs": [
    {
     "name": "stdout",
     "output_type": "stream",
     "text": [
      "1\n",
      "0\n"
     ]
    }
   ],
   "source": [
    "# 2. Accessing Values by Key\n",
    "print(my_dict[\"a\"])          # 1\n",
    "print(my_dict.get(\"z\", 0))    # 0 (safe access)"
   ]
  },
  {
   "cell_type": "code",
   "execution_count": 65,
   "metadata": {},
   "outputs": [
    {
     "name": "stdout",
     "output_type": "stream",
     "text": [
      "{'a': 10, 'b': 2, 'c': 3}\n"
     ]
    }
   ],
   "source": [
    "# 3. Adding / Updating Elements\n",
    "my_dict[\"c\"] = 3               # Add new key\n",
    "my_dict[\"a\"] = 10              # Update existing key\n",
    "print(my_dict)"
   ]
  },
  {
   "cell_type": "code",
   "execution_count": 16,
   "metadata": {},
   "outputs": [
    {
     "name": "stdout",
     "output_type": "stream",
     "text": [
      "3\n"
     ]
    }
   ],
   "source": [
    "# 4. Deleting Elements\n",
    "del my_dict[\"b\"]               # Delete key safely\n",
    "print(my_dict.pop(\"c\", None))  # Remove and return value (or None)"
   ]
  },
  {
   "cell_type": "code",
   "execution_count": 17,
   "metadata": {},
   "outputs": [
    {
     "name": "stdout",
     "output_type": "stream",
     "text": [
      "True\n",
      "False\n"
     ]
    }
   ],
   "source": [
    "# 5. Check Key Existence\n",
    "print(\"a\" in my_dict)          # True\n",
    "print(\"z\" in my_dict)          # False"
   ]
  },
  {
   "cell_type": "code",
   "execution_count": 66,
   "metadata": {},
   "outputs": [
    {
     "name": "stdout",
     "output_type": "stream",
     "text": [
      "Key: a, Value: 10\n",
      "Key: b, Value: 2\n",
      "Key: c, Value: 3\n"
     ]
    }
   ],
   "source": [
    "# 6. Loop through Keys\n",
    "for key in my_dict:\n",
    "    print(f\"Key: {key}, Value: {my_dict[key]}\")"
   ]
  },
  {
   "cell_type": "code",
   "execution_count": 67,
   "metadata": {},
   "outputs": [
    {
     "name": "stdout",
     "output_type": "stream",
     "text": [
      "Value: 10\n",
      "Value: 2\n",
      "Value: 3\n"
     ]
    }
   ],
   "source": [
    "# 7. Loop through Values\n",
    "for val in my_dict.values():\n",
    "    print(f\"Value: {val}\")"
   ]
  },
  {
   "cell_type": "code",
   "execution_count": 71,
   "metadata": {},
   "outputs": [
    {
     "name": "stdout",
     "output_type": "stream",
     "text": [
      "a => 10\n",
      "b => 2\n",
      "c => 3\n"
     ]
    }
   ],
   "source": [
    "# 8. Loop through Key-Value Pairs\n",
    "for k, v in my_dict.items():\n",
    "    print(f\"{k} => {v}\")"
   ]
  },
  {
   "cell_type": "code",
   "execution_count": 72,
   "metadata": {},
   "outputs": [
    {
     "name": "stdout",
     "output_type": "stream",
     "text": [
      "dict_keys(['a', 'b', 'c', 'z'])\n",
      "dict_values([10, 2, 3, 99])\n",
      "dict_items([('a', 10), ('b', 2), ('c', 3), ('z', 99)])\n"
     ]
    }
   ],
   "source": [
    "# 9. Useful Methods\n",
    "my_dict.update({\"z\": 99})     # Merge or update\n",
    "print(my_dict.keys())\n",
    "print(my_dict.values())\n",
    "print(my_dict.items())"
   ]
  },
  {
   "cell_type": "code",
   "execution_count": 73,
   "metadata": {},
   "outputs": [
    {
     "name": "stdout",
     "output_type": "stream",
     "text": [
      "Counter({'i': 2, 'e': 2, 'n': 1, 't': 1, 'r': 1, 'v': 1, 'w': 1})\n"
     ]
    }
   ],
   "source": [
    "# 10. Frequency Counter (collections.Counter)\n",
    "from collections import Counter\n",
    "counts = Counter(\"interview\")\n",
    "print(counts)"
   ]
  },
  {
   "cell_type": "code",
   "execution_count": 23,
   "metadata": {},
   "outputs": [
    {
     "name": "stdout",
     "output_type": "stream",
     "text": [
      "defaultdict(<class 'list'>, {'Math': ['Alice', 'Eve'], 'Science': ['Bob']})\n",
      "55\n"
     ]
    }
   ],
   "source": [
    "# 11. Grouping by Key (collections.defaultdict)\n",
    "from collections import defaultdict\n",
    "data = [(\"Alice\", \"Math\"), (\"Bob\", \"Science\"), (\"Eve\", \"Math\")]\n",
    "groups = defaultdict(list)\n",
    "for name, group in data:\n",
    "    groups[group].append(name)\n",
    "print(groups)\n",
    "\n",
    "# 12. Memoization Example (Fibonacci)\n",
    "memo = {}\n",
    "def fib(n):\n",
    "    if n in memo:\n",
    "        return memo[n]\n",
    "    if n <= 1:\n",
    "        return n\n",
    "    memo[n] = fib(n-1) + fib(n-2)\n",
    "    return memo[n]\n",
    "\n",
    "print(fib(10))\n"
   ]
  },
  {
   "cell_type": "markdown",
   "metadata": {},
   "source": [
    "# 📘 Python Dictionary Operations Cheat Sheet (with Big O Notation)\n",
    "\n",
    "> Average-case time complexity unless otherwise noted.\n",
    "\n",
    "| Operation                     | Code Example                          | Time Complexity |\n",
    "|------------------------------|----------------------------------------|-----------------|\n",
    "| Create empty dictionary      | `my_dict = {}`                         | O(1)            |\n",
    "| Insert / Update              | `my_dict['a'] = 1`                     | O(1)            |\n",
    "| Access by key                | `val = my_dict['a']`                   | O(1)            |\n",
    "| Check if key exists          | `'a' in my_dict`                       | O(1)            |\n",
    "| Delete a key                 | `del my_dict['a']`                     | O(1)            |\n",
    "| Get value with default       | `my_dict.get('b', 0)`                  | O(1)            |\n",
    "| Set default if key missing   | `my_dict.setdefault('b', 2)`          | O(1)            |\n",
    "| Get all keys                 | `my_dict.keys()`                       | O(n)            |\n",
    "| Get all values               | `my_dict.values()`                     | O(n)            |\n",
    "| Iterate over items           | `for k, v in my_dict.items():`        | O(n)            |\n",
    "\n",
    "> ⚠️ Worst-case time complexities can degrade to O(n) in very rare cases due to hash collisions.\n",
    "\n",
    "---\n",
    "\n",
    "✅ Use `collections.defaultdict` for automatic default values, and `collections.OrderedDict` (Python < 3.7) if insertion order matters."
   ]
  },
  {
   "cell_type": "code",
   "execution_count": null,
   "metadata": {},
   "outputs": [],
   "source": []
  }
 ],
 "metadata": {
  "kernelspec": {
   "display_name": "Python 3",
   "language": "python",
   "name": "python3"
  },
  "language_info": {
   "codemirror_mode": {
    "name": "ipython",
    "version": 3
   },
   "file_extension": ".py",
   "mimetype": "text/x-python",
   "name": "python",
   "nbconvert_exporter": "python",
   "pygments_lexer": "ipython3",
   "version": "3.12.0"
  }
 },
 "nbformat": 4,
 "nbformat_minor": 2
}
