{
 "cells": [
  {
   "cell_type": "markdown",
   "metadata": {},
   "source": [
    "##  Iterative BST Implementation in Python"
   ]
  },
  {
   "cell_type": "code",
   "execution_count": 2,
   "metadata": {},
   "outputs": [],
   "source": [
    "class Node:\n",
    "    def __init__(self, value):\n",
    "        self.value = value\n",
    "        self.left = None\n",
    "        self.right = None"
   ]
  },
  {
   "cell_type": "code",
   "execution_count": 3,
   "metadata": {},
   "outputs": [],
   "source": [
    "class BST:\n",
    "    def __init__(self):\n",
    "        self.root = None\n",
    "\n",
    "    def insert(self, value):\n",
    "        new_node = Node(value)\n",
    "        if not self.root:\n",
    "            self.root = new_node\n",
    "            return\n",
    "\n",
    "        current = self.root\n",
    "        while True:\n",
    "            if value < current.value:\n",
    "                if current.left is None:\n",
    "                    current.left = new_node\n",
    "                    return\n",
    "                current = current.left\n",
    "            else:\n",
    "                if current.right is None:\n",
    "                    current.right = new_node\n",
    "                    return\n",
    "                current = current.right\n",
    "\n",
    "    def search(self, value):\n",
    "        current = self.root\n",
    "        while current:\n",
    "            if current.value == value:\n",
    "                return True\n",
    "            elif value < current.value:\n",
    "                current = current.left\n",
    "            else:\n",
    "                current = current.right\n",
    "        return False\n",
    "\n",
    "    def inorder(self):\n",
    "        stack = []\n",
    "        current = self.root\n",
    "\n",
    "        while stack or current:\n",
    "            while current:\n",
    "                stack.append(current)\n",
    "                current = current.left\n",
    "            current = stack.pop()\n",
    "            print(current.value, end=' ')\n",
    "            current = current.right\n"
   ]
  },
  {
   "cell_type": "markdown",
   "metadata": {},
   "source": [
    "### Example Usage:"
   ]
  },
  {
   "cell_type": "code",
   "execution_count": 4,
   "metadata": {},
   "outputs": [
    {
     "name": "stdout",
     "output_type": "stream",
     "text": [
      "Inorder Traversal:\n",
      "5 10 12 15 \n",
      "Search 15: True\n",
      "Search 7: False\n"
     ]
    }
   ],
   "source": [
    "tree = BST()\n",
    "tree.insert(10)\n",
    "tree.insert(5)\n",
    "tree.insert(15)\n",
    "tree.insert(12)\n",
    "\n",
    "print(\"Inorder Traversal:\")\n",
    "tree.inorder()  # Output: 5 10 12 15\n",
    "\n",
    "print(\"\\nSearch 15:\", tree.search(15))  # True\n",
    "print(\"Search 7:\", tree.search(7))      # False\n"
   ]
  },
  {
   "cell_type": "code",
   "execution_count": null,
   "metadata": {},
   "outputs": [],
   "source": []
  }
 ],
 "metadata": {
  "kernelspec": {
   "display_name": "Python 3",
   "language": "python",
   "name": "python3"
  },
  "language_info": {
   "codemirror_mode": {
    "name": "ipython",
    "version": 3
   },
   "file_extension": ".py",
   "mimetype": "text/x-python",
   "name": "python",
   "nbconvert_exporter": "python",
   "pygments_lexer": "ipython3",
   "version": "3.12.0"
  }
 },
 "nbformat": 4,
 "nbformat_minor": 2
}
