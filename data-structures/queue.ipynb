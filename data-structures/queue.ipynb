{
 "cells": [
  {
   "cell_type": "markdown",
   "metadata": {},
   "source": [
    "### Queue with LinkedList"
   ]
  },
  {
   "cell_type": "code",
   "execution_count": 1,
   "metadata": {},
   "outputs": [],
   "source": [
    "# Node class\n",
    "class Node:\n",
    "    def __init__(self, value):\n",
    "        self.value = value\n",
    "        self.next = None"
   ]
  },
  {
   "cell_type": "code",
   "execution_count": 2,
   "metadata": {},
   "outputs": [],
   "source": [
    "# Queue class using linked list\n",
    "class Queue:\n",
    "    def __init__(self):\n",
    "        self.first = None  # Head (front)\n",
    "        self.last = None   # Tail (rear)\n",
    "        self.length = 0\n",
    "\n",
    "    def enqueue(self, value):\n",
    "        new_node = Node(value)\n",
    "        if self.length == 0:\n",
    "            self.first = new_node\n",
    "            self.last = new_node\n",
    "        else:\n",
    "            self.last.next = new_node\n",
    "            self.last = new_node\n",
    "        self.length += 1\n",
    "\n",
    "    def dequeue(self):\n",
    "        if self.length == 0:\n",
    "            return None\n",
    "        temp = self.first\n",
    "        if self.length == 1:\n",
    "            self.first = None\n",
    "            self.last = None\n",
    "        else:\n",
    "            self.first = self.first.next\n",
    "        self.length -= 1\n",
    "        return temp.value\n",
    "\n",
    "    def peek(self):\n",
    "        if self.first is None:\n",
    "            return None\n",
    "        return self.first.value\n",
    "\n",
    "    def is_empty(self):\n",
    "        return self.length == 0\n",
    "\n",
    "    def print_queue(self):\n",
    "        temp = self.first\n",
    "        while temp:\n",
    "            print(temp.value, end=\" -> \")\n",
    "            temp = temp.next\n",
    "        print(\"None\")"
   ]
  },
  {
   "cell_type": "code",
   "execution_count": 3,
   "metadata": {},
   "outputs": [
    {
     "name": "stdout",
     "output_type": "stream",
     "text": [
      "1 -> 2 -> 3 -> None\n",
      "1\n",
      "2 -> 3 -> None\n",
      "2\n"
     ]
    }
   ],
   "source": [
    "q = Queue()\n",
    "q.enqueue(1)\n",
    "q.enqueue(2)\n",
    "q.enqueue(3)\n",
    "q.print_queue()     # Output: 1 -> 2 -> 3 -> None\n",
    "\n",
    "print(q.dequeue())  # Output: 1\n",
    "q.print_queue()     # Output: 2 -> 3 -> None\n",
    "\n",
    "print(q.peek())     # Output: 2\n"
   ]
  },
  {
   "cell_type": "markdown",
   "metadata": {},
   "source": [
    "### Queue Using Python List (FIFO)"
   ]
  },
  {
   "cell_type": "code",
   "execution_count": 5,
   "metadata": {},
   "outputs": [],
   "source": [
    "class Queue:\n",
    "    def __init__(self):\n",
    "        self.queue = []\n",
    "\n",
    "    def enqueue(self, value):\n",
    "        self.queue.append(value)  # Add to the end (tail)\n",
    "\n",
    "    def dequeue(self):\n",
    "        if self.is_empty():\n",
    "            return None\n",
    "        return self.queue.pop(0)  # Remove from the front (head)\n",
    "\n",
    "    def peek(self):\n",
    "        if self.is_empty():\n",
    "            return None\n",
    "        return self.queue[0]      # Look at the front\n",
    "\n",
    "    def is_empty(self):\n",
    "        return len(self.queue) == 0\n",
    "\n",
    "    def size(self):\n",
    "        return len(self.queue)\n",
    "\n",
    "    def print_queue(self):\n",
    "        print(self.queue)\n"
   ]
  },
  {
   "cell_type": "code",
   "execution_count": 8,
   "metadata": {},
   "outputs": [
    {
     "name": "stdout",
     "output_type": "stream",
     "text": [
      "[10, 20, 30]\n",
      "10\n",
      "[20, 30]\n",
      "20\n"
     ]
    }
   ],
   "source": [
    "q = Queue()\n",
    "q.enqueue(10)\n",
    "q.enqueue(20)\n",
    "q.enqueue(30)\n",
    "q.print_queue()    # Output: [10, 20, 30]\n",
    "\n",
    "print(q.dequeue()) # Output: 10\n",
    "q.print_queue()    # Output: [20, 30]\n",
    "\n",
    "print(q.peek())    # Output: 20\n"
   ]
  },
  {
   "cell_type": "markdown",
   "metadata": {},
   "source": [
    "### Queue: List vs Linked List – Big O Complexity"
   ]
  },
  {
   "cell_type": "markdown",
   "metadata": {},
   "source": [
    "| Operation  | Queue (List) | Queue (Linked List) | Notes |\n",
    "|------------|--------------|----------------------|-------|\n",
    "| Enqueue    | O(1)         | O(1)                 | `append()` is O(1) in list; tail pointer helps in linked list |\n",
    "| Dequeue    | O(n) ❗       | O(1) ✅              | List's `pop(0)` shifts elements |\n",
    "| Peek       | O(1)         | O(1)                 | Front element access is direct |\n",
    "| is_empty   | O(1)         | O(1)                 | Just check length or head pointer |\n",
    "| Space      | O(n)         | O(n)                 | Both store `n` elements, but linked list has extra pointers |\n"
   ]
  },
  {
   "cell_type": "markdown",
   "metadata": {},
   "source": [
    "**Linked List** is better for performance-critical dequeue operations.  \n",
    "**List** becomes inefficient for large queues due to O(n) `pop(0)`."
   ]
  }
 ],
 "metadata": {
  "kernelspec": {
   "display_name": "Python 3",
   "language": "python",
   "name": "python3"
  },
  "language_info": {
   "codemirror_mode": {
    "name": "ipython",
    "version": 3
   },
   "file_extension": ".py",
   "mimetype": "text/x-python",
   "name": "python",
   "nbconvert_exporter": "python",
   "pygments_lexer": "ipython3",
   "version": "3.12.0"
  }
 },
 "nbformat": 4,
 "nbformat_minor": 2
}
